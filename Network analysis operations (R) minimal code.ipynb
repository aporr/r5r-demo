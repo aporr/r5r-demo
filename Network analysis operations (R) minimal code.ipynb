{
 "cells": [
  {
   "cell_type": "code",
   "execution_count": 1,
   "id": "ddb60d11-8ab7-410e-a56a-f63702ea90e7",
   "metadata": {
    "jupyter": {
     "source_hidden": true
    },
    "tags": []
   },
   "outputs": [],
   "source": [
    "start_time = Sys.time()\n",
    "# allocate RAM memory to Java\n",
    "options(java.parameters = \"-Xmx4G\")"
   ]
  },
  {
   "cell_type": "code",
   "execution_count": 7,
   "id": "f858e69f-bfd8-40f3-a86f-4c5690e2addb",
   "metadata": {},
   "outputs": [],
   "source": [
    "install.packages(\"r5r\")\n",
    "library(r5r)\n",
    "r5r_core <- setup_r5(data_path = \"./input_data\", verbose=TRUE)\n",
    "locations = read.csv(\"./input_data/sample_locations.csv\")\n",
    "ttm_car <- travel_time_matrix(r5r_core = r5r_core,\n",
    "                          origins = locations[1, ],\n",
    "                          destinations = locations[1:nrow(locations), ],\n",
    "                          mode = c(\"CAR\"),\n",
    "                          departure_datetime = as.POSIXct(\"2022-09-12 17:00:00\", \n",
    "                                                format = \"%Y-%m-%d %H:%M:%S\"),\n",
    "                          max_trip_duration = 90)\n",
    "ttm_bike <- travel_time_matrix(r5r_core = r5r_core,\n",
    "                          origins = locations[1, ],\n",
    "                          destinations = locations[1:nrow(locations), ],\n",
    "                          mode = c(\"BICYCLE\"),\n",
    "                          departure_datetime = as.POSIXct(\"2022-09-12 17:00:00\",\n",
    "                                                format = \"%Y-%m-%d %H:%M:%S\"),\n",
    "                          max_trip_duration = 90)\n",
    "ttm_transit <- travel_time_matrix(r5r_core = r5r_core,\n",
    "                          origins = locations[1, ],\n",
    "                          destinations = locations[1:nrow(locations), ],\n",
    "                          mode = c(\"TRANSIT\",\"WALK\"),\n",
    "                          departure_datetime = as.POSIXct(\"2022-09-12 17:00:00\", \n",
    "                                                format = \"%Y-%m-%d %H:%M:%S\"),\n",
    "                          max_trip_duration = 90)\n",
    "write.csv(ttm_car, \"output_data/ttm_sample_locations_car.csv\", row.names=FALSE)\n",
    "write.csv(ttm_bike, \"output_data/ttm_sample_locations_bike.csv\", row.names=FALSE)\n",
    "write.csv(ttm_transit, \"output_data/ttm_sample_locations_transit.csv\", row.names=FALSE)"
   ]
  },
  {
   "cell_type": "code",
   "execution_count": 8,
   "id": "b3288738-ae9d-44b7-8881-70dfe0050754",
   "metadata": {},
   "outputs": [
    {
     "name": "stdout",
     "output_type": "stream",
     "text": [
      "[1] \"Compute time: 2.02042361497879 min\"\n"
     ]
    }
   ],
   "source": [
    "end_time = Sys.time()\n",
    "duration = difftime(end_time, start_time, units=\"min\")\n",
    "print(paste0(\"Compute time: \", duration, \" min\"))"
   ]
  }
 ],
 "metadata": {
  "kernelspec": {
   "display_name": "R",
   "language": "R",
   "name": "ir"
  },
  "language_info": {
   "codemirror_mode": "r",
   "file_extension": ".r",
   "mimetype": "text/x-r-source",
   "name": "R",
   "pygments_lexer": "r",
   "version": "4.1.1"
  }
 },
 "nbformat": 4,
 "nbformat_minor": 5
}
