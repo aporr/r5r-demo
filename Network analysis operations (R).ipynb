{
 "cells": [
  {
   "cell_type": "markdown",
   "id": "f2899239-230b-4960-aba2-803ba5fb46db",
   "metadata": {},
   "source": [
    "# A Sense of Place: Quick and Dirty Accessibility Analysis Using Open Source Network Analysis Tools\t"
   ]
  },
  {
   "cell_type": "markdown",
   "id": "b10ae7db-4ea0-49ed-994b-37f8e247bc50",
   "metadata": {},
   "source": [
    "How many residents live within cycling distance of the planned community center? What are the economic characteristics of the neighbors within walking distance of this library? How many more jobs can a person reach in 30 minutes if we put a bikeshare station at this bus stop? It used to be that answering location intelligence questions like these was expensive and time consuming, but thanks to a suite of open source software and open data, you can answer these and countless other questions that require analysis of complex geospatial networks for free in minutes. In this presentation we'll demonstrate how to use the r5r package for the popular R programming language to build a multi-modal transportation network for Central Ohio from scratch and use it to model some impacts of a large hypothetical industrial development in Licking County."
   ]
  },
  {
   "cell_type": "markdown",
   "id": "c1121a48-59ef-4e23-a6b7-7cca20fc020e",
   "metadata": {},
   "source": [
    "## Configure environment"
   ]
  },
  {
   "cell_type": "code",
   "execution_count": 1,
   "id": "d2f93f7a-28cf-4a9e-9e99-4b5c1e80cd3d",
   "metadata": {},
   "outputs": [
    {
     "data": {
      "text/html": [
       "'11'"
      ],
      "text/latex": [
       "'11'"
      ],
      "text/markdown": [
       "'11'"
      ],
      "text/plain": [
       "[1] \"11\""
      ]
     },
     "metadata": {},
     "output_type": "display_data"
    },
    {
     "name": "stderr",
     "output_type": "stream",
     "text": [
      "Warning message:\n",
      "\"package 'r5r' was built under R version 4.1.3\"\n",
      "Loading required namespace: sf\n",
      "\n",
      "Please make sure you have already allocated some memory to Java by running:\n",
      "  options(java.parameters = '-Xmx2G').\n",
      "Currently, Java memory is set to -Xmx8G\n",
      "\n",
      "Warning message:\n",
      "\"package 'osmextract' was built under R version 4.1.3\"\n",
      "Data (c) OpenStreetMap contributors, ODbL 1.0. https://www.openstreetmap.org/copyright.\n",
      "Check the package website, https://docs.ropensci.org/osmextract/, for more details.\n",
      "\n",
      "Warning message:\n",
      "\"package 'sf' was built under R version 4.1.3\"\n",
      "Linking to GEOS 3.10.2, GDAL 3.4.1, PROJ 7.2.1; sf_use_s2() is TRUE\n",
      "\n",
      "Warning message:\n",
      "\"package 'data.table' was built under R version 4.1.3\"\n",
      "Warning message:\n",
      "\"package 'dplyr' was built under R version 4.1.3\"\n",
      "\n",
      "Attaching package: 'dplyr'\n",
      "\n",
      "\n",
      "The following objects are masked from 'package:data.table':\n",
      "\n",
      "    between, first, last\n",
      "\n",
      "\n",
      "The following objects are masked from 'package:stats':\n",
      "\n",
      "    filter, lag\n",
      "\n",
      "\n",
      "The following objects are masked from 'package:base':\n",
      "\n",
      "    intersect, setdiff, setequal, union\n",
      "\n",
      "\n"
     ]
    }
   ],
   "source": [
    "# allocate RAM memory to Java\n",
    "options(java.parameters = \"-Xmx8G\")\n",
    "\n",
    "rJava::.jinit()\n",
    "rJava::.jcall(\"java.lang.System\", \"S\", \"getProperty\", \"java.version\")\n",
    "\n",
    "#install.packages(\"r5r\")\n",
    "#install.packages(\"osmextract\")\n",
    "#install.packages(\"tidycensus\")\n",
    "#install.packages(\"geojsonio\")\n",
    "#install.packages(\"SpatialPosition\")\n",
    "#install.packages(\"httr\")\n",
    "\n",
    "library(r5r)\n",
    "library(osmextract)\n",
    "library(sf)\n",
    "library(data.table)\n",
    "library(dplyr)\n",
    "#library(geojsonio)\n",
    "#library(SpatialPosition)\n",
    "#library(httr)\n",
    "\n",
    "departureTime = as.POSIXct(\"2022-09-12 17:00:00\",\n",
    "                                 format = \"%Y-%m-%d %H:%M:%S\")"
   ]
  },
  {
   "cell_type": "markdown",
   "id": "d877befe-cbca-4093-9e5b-842bc25224e3",
   "metadata": {},
   "source": [
    "## Prepare transportation network"
   ]
  },
  {
   "cell_type": "code",
   "execution_count": 16,
   "id": "56202997-097e-41c1-b68c-d6c315e90efb",
   "metadata": {
    "scrolled": true,
    "tags": []
   },
   "outputs": [
    {
     "name": "stderr",
     "output_type": "stream",
     "text": [
      "\n",
      "Using cached network.dat from ./input_data/network.dat\n",
      "\n"
     ]
    },
    {
     "name": "stdout",
     "output_type": "stream",
     "text": [
      "[1] \"Compute time: 0.235051282246908 min\"\n"
     ]
    }
   ],
   "source": [
    "start_time = Sys.time()\n",
    "r5r_core <- setup_r5(data_path = \"./input_data\", verbose=TRUE)\n",
    "end_time = Sys.time()\n",
    "duration = difftime(end_time, start_time, units=\"min\")\n",
    "print(paste0(\"Compute time: \", duration, \" min\"))"
   ]
  },
  {
   "cell_type": "markdown",
   "id": "d075f707-16fb-4c68-95ad-903977bb1fb9",
   "metadata": {},
   "source": [
    "## Prepare network endpoints"
   ]
  },
  {
   "cell_type": "code",
   "execution_count": 17,
   "id": "72650cfb",
   "metadata": {
    "tags": []
   },
   "outputs": [
    {
     "name": "stdout",
     "output_type": "stream",
     "text": [
      "Reading layer `site' from data source \n",
      "  `C:\\Users\\aporr\\Desktop\\Work\\2022 Ohio GIS Conference\\input_data\\site\\site.shp' \n",
      "  using driver `ESRI Shapefile'\n",
      "Simple feature collection with 1 feature and 1 field\n",
      "Geometry type: POINT\n",
      "Dimension:     XY\n",
      "Bounding box:  xmin: -82.69665 ymin: 40.12325 xmax: -82.69665 ymax: 40.12325\n",
      "Geodetic CRS:  WGS 84\n"
     ]
    }
   ],
   "source": [
    "site <- st_read(\"./input_data/site/site.shp\")\n",
    "site <- st_transform(site, crs=\"epsg:4326\")"
   ]
  },
  {
   "cell_type": "code",
   "execution_count": 18,
   "id": "cfea106c-55d9-473a-b999-add648333de0",
   "metadata": {
    "tags": []
   },
   "outputs": [
    {
     "name": "stdout",
     "output_type": "stream",
     "text": [
      "Reading layer `park_and_ride' from data source \n",
      "  `C:\\Users\\aporr\\Desktop\\Work\\2022 Ohio GIS Conference\\temp_data\\park_and_ride.shp' \n",
      "  using driver `ESRI Shapefile'\n",
      "Simple feature collection with 1 feature and 1 field\n",
      "Geometry type: POINT\n",
      "Dimension:     XY\n",
      "Bounding box:  xmin: -82.78828 ymin: 40.0907 xmax: -82.78828 ymax: 40.0907\n",
      "Geodetic CRS:  WGS 84\n"
     ]
    }
   ],
   "source": [
    "park_and_ride <- st_read(\"./temp_data/park_and_ride.shp\")\n",
    "park_and_ride <- st_transform(park_and_ride, crs=\"epsg:4326\")"
   ]
  },
  {
   "cell_type": "code",
   "execution_count": 19,
   "id": "57a1f7d1-79d3-4199-8127-1da4699977e1",
   "metadata": {},
   "outputs": [
    {
     "name": "stdout",
     "output_type": "stream",
     "text": [
      "Reading layer `points' from data source \n",
      "  `C:\\Users\\aporr\\Desktop\\Work\\2022 Ohio GIS Conference\\temp_data\\points.shp' \n",
      "  using driver `ESRI Shapefile'\n",
      "Simple feature collection with 7800 features and 1 field\n",
      "Geometry type: POINT\n",
      "Dimension:     XY\n",
      "Bounding box:  xmin: -84.01784 ymin: 39.16179 xmax: -82.03087 ymax: 40.71409\n",
      "Geodetic CRS:  WGS 84\n"
     ]
    }
   ],
   "source": [
    "points <- st_read(\"./temp_data/points.shp\")\n",
    "points <- st_transform(points, crs=\"epsg:4326\")"
   ]
  },
  {
   "cell_type": "code",
   "execution_count": 20,
   "id": "47d63791-cd4e-4359-b936-b6567b009149",
   "metadata": {},
   "outputs": [
    {
     "name": "stdout",
     "output_type": "stream",
     "text": [
      "Reading layer `tract_points' from data source \n",
      "  `C:\\Users\\aporr\\Desktop\\Work\\2022 Ohio GIS Conference\\temp_data\\tract_points.shp' \n",
      "  using driver `ESRI Shapefile'\n",
      "Simple feature collection with 849 features and 1 field\n",
      "Geometry type: POINT\n",
      "Dimension:     XY\n",
      "Bounding box:  xmin: -84.15688 ymin: 39.00131 xmax: -81.97585 ymax: 40.82609\n",
      "Geodetic CRS:  WGS 84\n"
     ]
    }
   ],
   "source": [
    "tract_points <- st_read(\"./temp_data/tract_points.shp\")\n",
    "tract_points <- st_transform(tract_points, crs=\"epsg:4326\")"
   ]
  },
  {
   "cell_type": "markdown",
   "id": "2941b6f3-0778-4241-a4f1-44c17c246b87",
   "metadata": {},
   "source": [
    "## Compute travel time matrices"
   ]
  },
  {
   "cell_type": "markdown",
   "id": "5dc8f168-f4d4-4838-9181-3e1eb9ff4db8",
   "metadata": {},
   "source": [
    "### Evening weekday commute, car only, outbound, neighborhoods"
   ]
  },
  {
   "cell_type": "code",
   "execution_count": 21,
   "id": "baba99f7-22fb-4a16-8f00-4dac7687c8ca",
   "metadata": {},
   "outputs": [
    {
     "name": "stderr",
     "output_type": "stream",
     "text": [
      "Warning message in assert_points_input(origins, \"origins\"):\n",
      "\"'origins$id' forcefully cast to character.\"\n"
     ]
    },
    {
     "name": "stdout",
     "output_type": "stream",
     "text": [
      "[1] \"Compute time: 0.193964835007985 min\"\n"
     ]
    }
   ],
   "source": [
    "start_time = Sys.time()\n",
    "ttm <- travel_time_matrix(r5r_core = r5r_core,\n",
    "                          origins = site,\n",
    "                          destinations = tract_points,\n",
    "                          mode = c(\"CAR\"),\n",
    "                          departure_datetime = departureTime,\n",
    "                          max_trip_duration = 90)\n",
    "end_time = Sys.time()\n",
    "duration = difftime(end_time, start_time, units=\"min\")\n",
    "print(paste0(\"Compute time: \", duration, \" min\"))\n",
    "write.csv(ttm, \"output_data/ttm_CAR_outbound_neighborhoods.csv\", row.names=FALSE)"
   ]
  },
  {
   "cell_type": "markdown",
   "id": "43673bfc-fe57-4b6f-98e1-c232735c2970",
   "metadata": {},
   "source": [
    "### Evening weekday commute, car only, outbound, whole region"
   ]
  },
  {
   "cell_type": "code",
   "execution_count": 22,
   "id": "616cd589-f560-4133-ae9e-59ccb1fc9bbf",
   "metadata": {},
   "outputs": [
    {
     "name": "stderr",
     "output_type": "stream",
     "text": [
      "Warning message in assert_points_input(origins, \"origins\"):\n",
      "\"'origins$id' forcefully cast to character.\"\n",
      "Warning message in assert_points_input(destinations, \"destinations\"):\n",
      "\"'destinations$id' forcefully cast to character.\"\n"
     ]
    },
    {
     "name": "stdout",
     "output_type": "stream",
     "text": [
      "[1] \"Compute time: 0.102049001057943 min\"\n"
     ]
    }
   ],
   "source": [
    "start_time = Sys.time()\n",
    "ttm <- travel_time_matrix(r5r_core = r5r_core,\n",
    "                          origins = site,\n",
    "                          destinations = points,\n",
    "                          mode = c(\"CAR\"),\n",
    "                          departure_datetime = departureTime,\n",
    "                          max_trip_duration = 90)\n",
    "end_time = Sys.time()\n",
    "duration = difftime(end_time, start_time, units=\"min\")\n",
    "print(paste0(\"Compute time: \", duration, \" min\"))\n",
    "write.csv(ttm, \"output_data/ttm_CAR_outbound_90.csv\", row.names=FALSE)"
   ]
  },
  {
   "cell_type": "markdown",
   "id": "477381b8-4f22-44c1-8ce5-107c3fa90fac",
   "metadata": {},
   "source": [
    "### Evening weekday commute, walk+transit, outbound, whole region"
   ]
  },
  {
   "cell_type": "code",
   "execution_count": 28,
   "id": "976dd4f6-9f6e-4ef6-b0bc-7e707d8f8486",
   "metadata": {},
   "outputs": [
    {
     "name": "stderr",
     "output_type": "stream",
     "text": [
      "Warning message in assert_points_input(origins, \"origins\"):\n",
      "\"'origins$id' forcefully cast to character.\"\n",
      "Warning message in assert_points_input(destinations, \"destinations\"):\n",
      "\"'destinations$id' forcefully cast to character.\"\n"
     ]
    },
    {
     "name": "stdout",
     "output_type": "stream",
     "text": [
      "[1] \"Compute time: 0.0203715840975444 min\"\n"
     ]
    }
   ],
   "source": [
    "start_time = Sys.time()\n",
    "ttm <- travel_time_matrix(r5r_core = r5r_core,\n",
    "                          origins = site,\n",
    "                          destinations = points,\n",
    "                          mode = c(\"WALK\", \"TRANSIT\"),\n",
    "                          mode_egress = c(\"WALK\"),\n",
    "                          departure_datetime = departureTime,\n",
    "                          max_trip_duration = 90)\n",
    "end_time = Sys.time()\n",
    "duration = difftime(end_time, start_time, units=\"min\")\n",
    "print(paste0(\"Compute time: \", duration, \" min\"))\n",
    "write.csv(ttm, \"output_data/ttm_WALK-TRANSIT-WALK_outbound_90.csv\", row.names=FALSE)"
   ]
  },
  {
   "cell_type": "markdown",
   "id": "8d4703ec-22e5-453c-9610-3b275440882e",
   "metadata": {
    "tags": []
   },
   "source": [
    "### Evening weekday commute, bike+transit, outbound, whole region"
   ]
  },
  {
   "cell_type": "code",
   "execution_count": 29,
   "id": "881b1108-7b29-4d50-bd3f-ca009f34d8e2",
   "metadata": {},
   "outputs": [
    {
     "name": "stderr",
     "output_type": "stream",
     "text": [
      "Warning message in assert_points_input(origins, \"origins\"):\n",
      "\"'origins$id' forcefully cast to character.\"\n",
      "Warning message in assert_points_input(destinations, \"destinations\"):\n",
      "\"'destinations$id' forcefully cast to character.\"\n"
     ]
    },
    {
     "name": "stdout",
     "output_type": "stream",
     "text": [
      "[1] \"Compute time: 0.0115390658378601 min\"\n"
     ]
    }
   ],
   "source": [
    "start_time = Sys.time()\n",
    "ttm <- travel_time_matrix(r5r_core = r5r_core,\n",
    "                          origins = site,\n",
    "                          destinations = points,\n",
    "                          mode = c(\"BICYCLE\",\"TRANSIT\"),\n",
    "                          mode_egress = c(\"BICYCLE\"),\n",
    "                          departure_datetime = departureTime,\n",
    "                          max_trip_duration = 90)\n",
    "end_time = Sys.time()\n",
    "duration = difftime(end_time, start_time, units=\"min\")\n",
    "print(paste0(\"Compute time: \", duration, \" min\"))\n",
    "write.csv(ttm, \"output_data/ttm_BIKE-TRANSIT-BIKE_outbound_90.csv\", row.names=FALSE)"
   ]
  },
  {
   "cell_type": "markdown",
   "id": "212e3423-4156-41ce-97a6-efbe9585c52f",
   "metadata": {
    "tags": []
   },
   "source": [
    "### Evening weekday commute, shuttle+transit, outbound, whole region"
   ]
  },
  {
   "cell_type": "code",
   "execution_count": 30,
   "id": "572b41ff-be14-4a11-a187-258f0cbfa736",
   "metadata": {},
   "outputs": [
    {
     "name": "stderr",
     "output_type": "stream",
     "text": [
      "Warning message in assert_points_input(origins, \"origins\"):\n",
      "\"'origins$id' forcefully cast to character.\"\n",
      "Warning message in assert_points_input(destinations, \"destinations\"):\n",
      "\"'destinations$id' forcefully cast to character.\"\n"
     ]
    },
    {
     "name": "stdout",
     "output_type": "stream",
     "text": [
      "[1] \"Compute time: 0.0114726821581523 min\"\n"
     ]
    }
   ],
   "source": [
    "start_time = Sys.time()\n",
    "ttm <- travel_time_matrix(r5r_core = r5r_core,\n",
    "                          origins = park_and_ride,\n",
    "                          destinations = points,\n",
    "                          mode = c(\"WALK\",\"TRANSIT\"),\n",
    "                          mode_egress = c(\"WALK\"),\n",
    "                          departure_datetime = departureTime,\n",
    "                          max_trip_duration = 80)\n",
    "end_time = Sys.time()\n",
    "duration = difftime(end_time, start_time, units=\"min\")\n",
    "print(paste0(\"Compute time: \", duration, \" min\"))\n",
    "write.csv(ttm, \"output_data/ttm_SHUTTLE-TRANSIT-WALK_outbound_90.csv\", row.names=FALSE)"
   ]
  },
  {
   "cell_type": "markdown",
   "id": "d748dce4-771b-4baa-8f50-93682ef49dbc",
   "metadata": {},
   "source": [
    "### Evening weekday commute, bus only, outbound, neighborhoods"
   ]
  },
  {
   "cell_type": "code",
   "execution_count": 23,
   "id": "8feb38b3-fcf2-42dc-987d-1a08a6336c33",
   "metadata": {},
   "outputs": [
    {
     "name": "stderr",
     "output_type": "stream",
     "text": [
      "Warning message in assert_points_input(origins, \"origins\"):\n",
      "\"'origins$id' forcefully cast to character.\"\n"
     ]
    },
    {
     "name": "stdout",
     "output_type": "stream",
     "text": [
      "[1] \"Compute time: 0.00178538163503011 min\"\n"
     ]
    }
   ],
   "source": [
    "start_time = Sys.time()\n",
    "ttm <- travel_time_matrix(r5r_core = r5r_core,\n",
    "                          origins = site,\n",
    "                          destinations = tract_points,\n",
    "                          mode = c(\"TRANSIT\", \"WALK\"),\n",
    "                          departure_datetime = departureTime,\n",
    "                          max_trip_duration = 120,\n",
    "                          mode_egress=c(\"WALK\"),\n",
    "                          breakdown=TRUE\n",
    "                          )\n",
    "end_time = Sys.time()\n",
    "duration = difftime(end_time, start_time, units=\"min\")\n",
    "print(paste0(\"Compute time: \", duration, \" min\"))\n",
    "write.csv(ttm, \"output_data/ttm_WALK_TRANSIT_WALK_outbound_120.csv\", row.names=FALSE)"
   ]
  },
  {
   "cell_type": "markdown",
   "id": "079273c3-292c-448c-b345-3235085270b2",
   "metadata": {},
   "source": [
    "### Evening weekday commute, bus + bike, outbound, neighborhoods"
   ]
  },
  {
   "cell_type": "code",
   "execution_count": 25,
   "id": "cc83e4c2-fd9a-4afb-a8e2-cca00d1c3670",
   "metadata": {},
   "outputs": [
    {
     "name": "stderr",
     "output_type": "stream",
     "text": [
      "Warning message in assert_points_input(origins, \"origins\"):\n",
      "\"'origins$id' forcefully cast to character.\"\n"
     ]
    },
    {
     "name": "stdout",
     "output_type": "stream",
     "text": [
      "[1] \"Compute time: 0.00322253306706746 min\"\n"
     ]
    }
   ],
   "source": [
    "start_time = Sys.time()\n",
    "ttm <- travel_time_matrix(r5r_core = r5r_core,\n",
    "                          origins = site,\n",
    "                          destinations = tract_points,\n",
    "                          mode = c(\"TRANSIT\", \"WALK\", \"BICYCLE\"),\n",
    "                          departure_datetime = as.POSIXct(\"2022-09-12 16:20:00\",\n",
    "                                 format = \"%Y-%m-%d %H:%M:%S\"),\n",
    "                          max_trip_duration = 120,\n",
    "                          mode_egress=c(\"WALK\"),\n",
    "                          breakdown=TRUE\n",
    "                          )\n",
    "end_time = Sys.time()\n",
    "duration = difftime(end_time, start_time, units=\"min\")\n",
    "print(paste0(\"Compute time: \", duration, \" min\"))\n",
    "write.csv(ttm, \"output_data/ttm_BICYCLE_TRANSIT_WALK_outbound_120.csv\", row.names=FALSE)"
   ]
  },
  {
   "cell_type": "markdown",
   "id": "36475c70-4bb1-47d1-9cfb-0f451e8f9264",
   "metadata": {},
   "source": [
    "### Evening weekday commute, bus from park and ride + implied shuttle, outbound, neighborhoods"
   ]
  },
  {
   "cell_type": "code",
   "execution_count": 24,
   "id": "13b3420c-a4e6-42c3-a086-f7e493885e64",
   "metadata": {},
   "outputs": [
    {
     "name": "stderr",
     "output_type": "stream",
     "text": [
      "Warning message in assert_points_input(origins, \"origins\"):\n",
      "\"'origins$id' forcefully cast to character.\"\n"
     ]
    },
    {
     "name": "stdout",
     "output_type": "stream",
     "text": [
      "[1] \"Compute time: 0.00533106724421183 min\"\n"
     ]
    }
   ],
   "source": [
    "start_time = Sys.time()\n",
    "ttm <- travel_time_matrix(r5r_core = r5r_core,\n",
    "                          origins = park_and_ride,\n",
    "                          destinations = tract_points,\n",
    "                          mode = c(\"TRANSIT\", \"WALK\"),\n",
    "                          departure_datetime = departureTime,\n",
    "                          max_trip_duration = 110,\n",
    "                          mode_egress=c(\"WALK\"),\n",
    "                          breakdown=TRUE\n",
    "                          )\n",
    "end_time = Sys.time()\n",
    "duration = difftime(end_time, start_time, units=\"min\")\n",
    "print(paste0(\"Compute time: \", duration, \" min\"))\n",
    "write.csv(ttm, \"output_data/ttm_SHUTTLE_TRANSIT_WALK_outbound_120_20220905170000.csv\", row.names=FALSE)"
   ]
  },
  {
   "cell_type": "markdown",
   "id": "7a937781-2916-44e3-9d87-825d1f35a8d4",
   "metadata": {},
   "source": [
    "## Compute detailed itineraries"
   ]
  },
  {
   "cell_type": "markdown",
   "id": "a2765408-e385-4aac-b887-b378b9834bd5",
   "metadata": {},
   "source": [
    "### Car"
   ]
  },
  {
   "cell_type": "code",
   "execution_count": 22,
   "id": "2a294b3d-2270-49b5-974d-7bc78a32d324",
   "metadata": {},
   "outputs": [
    {
     "name": "stderr",
     "output_type": "stream",
     "text": [
      "Warning message in assert_points_input(origins, \"origins\"):\n",
      "\"'origins$id' forcefully cast to character.\"\n",
      "Warning message in assert_points_input(destinations, \"destinations\"):\n",
      "\"'destinations$id' forcefully cast to character.\"\n",
      "Origins dataframe expanded to match the number of destinations.\n",
      "\n"
     ]
    },
    {
     "name": "stdout",
     "output_type": "stream",
     "text": [
      "[1] \"Compute time: 0.164655117193858 min\"\n"
     ]
    },
    {
     "name": "stderr",
     "output_type": "stream",
     "text": [
      "Warning message in abbreviate_shapefile_names(obj):\n",
      "\"Field names abbreviated for ESRI Shapefile driver\"\n"
     ]
    },
    {
     "name": "stdout",
     "output_type": "stream",
     "text": [
      "Writing layer `itineraries_CAR_outbound_120' to data source \n",
      "  `./output_data/itineraries_CAR_outbound_120.shp' using driver `ESRI Shapefile'\n",
      "Writing 523 features with 14 fields and geometry type Line String.\n"
     ]
    }
   ],
   "source": [
    "start_time = Sys.time()\n",
    "itineraries = detailed_itineraries(r5r_core = r5r_core,\n",
    "  origins = site,\n",
    "  destinations = tract_points,\n",
    "  mode = c(\"CAR\"),\n",
    "  departure_datetime = departureTime,\n",
    "  max_trip_duration = 120\n",
    ")\n",
    "end_time = Sys.time()\n",
    "duration = difftime(end_time, start_time, units=\"min\")\n",
    "print(paste0(\"Compute time: \", duration, \" min\"))\n",
    "st_write(itineraries, \"./output_data/itineraries_CAR_outbound_120.shp\", append=FALSE)"
   ]
  },
  {
   "cell_type": "markdown",
   "id": "fcb488f0-8fa3-418b-b1c0-5f8bd2434b18",
   "metadata": {
    "tags": []
   },
   "source": [
    "### Shuttle + transit + walk"
   ]
  },
  {
   "cell_type": "code",
   "execution_count": 37,
   "id": "456519d0-5851-4f7d-8983-4134e44b758a",
   "metadata": {},
   "outputs": [
    {
     "name": "stderr",
     "output_type": "stream",
     "text": [
      "Warning message in assert_points_input(origins, \"origins\"):\n",
      "\"'origins$id' forcefully cast to character.\"\n",
      "Warning message in assert_points_input(destinations, \"destinations\"):\n",
      "\"'destinations$id' forcefully cast to character.\"\n"
     ]
    },
    {
     "name": "stdout",
     "output_type": "stream",
     "text": [
      "[1] \"Compute time: 0.00289353529612223 min\"\n"
     ]
    },
    {
     "name": "stderr",
     "output_type": "stream",
     "text": [
      "Warning message in abbreviate_shapefile_names(obj):\n",
      "\"Field names abbreviated for ESRI Shapefile driver\"\n"
     ]
    },
    {
     "name": "stdout",
     "output_type": "stream",
     "text": [
      "Writing layer `itineraries_SHUTTLE_firstmile' to data source \n",
      "  `./output_data/itineraries_SHUTTLE_firstmile.shp' using driver `ESRI Shapefile'\n",
      "Writing 1 features with 14 fields and geometry type Line String.\n"
     ]
    }
   ],
   "source": [
    "start_time = Sys.time()\n",
    "itineraries = detailed_itineraries(r5r_core = r5r_core,\n",
    "  origins = site,\n",
    "  destinations = park_and_ride,\n",
    "  mode = c(\"CAR\"),\n",
    "  departure_datetime = as.POSIXct(\"2022-09-12 16:45:00\",\n",
    "                                 format = \"%Y-%m-%d %H:%M:%S\"),,\n",
    "  max_trip_duration = 15\n",
    ")\n",
    "end_time = Sys.time()\n",
    "duration = difftime(end_time, start_time, units=\"min\")\n",
    "print(paste0(\"Compute time: \", duration, \" min\"))\n",
    "st_write(itineraries, \"./output_data/itineraries_SHUTTLE_firstmile.shp\", append=FALSE)"
   ]
  },
  {
   "cell_type": "code",
   "execution_count": 38,
   "id": "9eb8f6d5-38a5-4ac0-b3ee-154f4cbe1bcd",
   "metadata": {},
   "outputs": [
    {
     "name": "stderr",
     "output_type": "stream",
     "text": [
      "Warning message in assert_points_input(origins, \"origins\"):\n",
      "\"'origins$id' forcefully cast to character.\"\n",
      "Warning message in assert_points_input(destinations, \"destinations\"):\n",
      "\"'destinations$id' forcefully cast to character.\"\n"
     ]
    },
    {
     "name": "stdout",
     "output_type": "stream",
     "text": [
      "[1] \"Compute time: 0.0014953335126241 min\"\n"
     ]
    },
    {
     "name": "stderr",
     "output_type": "stream",
     "text": [
      "Warning message in abbreviate_shapefile_names(obj):\n",
      "\"Field names abbreviated for ESRI Shapefile driver\"\n"
     ]
    },
    {
     "name": "stdout",
     "output_type": "stream",
     "text": [
      "Writing layer `itineraries_BIKE_firstmile' to data source \n",
      "  `./output_data/itineraries_BIKE_firstmile.shp' using driver `ESRI Shapefile'\n",
      "Writing 1 features with 14 fields and geometry type Line String.\n"
     ]
    }
   ],
   "source": [
    "start_time = Sys.time()\n",
    "itineraries = detailed_itineraries(r5r_core = r5r_core,\n",
    "  origins = site,\n",
    "  destinations = park_and_ride,\n",
    "  mode = c(\"WALK\"),\n",
    "  departure_datetime = as.POSIXct(\"2022-09-12 16:20:00\",\n",
    "                                 format = \"%Y-%m-%d %H:%M:%S\"),,\n",
    "  max_trip_duration = 40,\n",
    "  walk_speed = 24\n",
    ")\n",
    "end_time = Sys.time()\n",
    "duration = difftime(end_time, start_time, units=\"min\")\n",
    "print(paste0(\"Compute time: \", duration, \" min\"))\n",
    "st_write(itineraries, \"./output_data/itineraries_BIKE_firstmile.shp\", append=FALSE)"
   ]
  },
  {
   "cell_type": "code",
   "execution_count": 10,
   "id": "57a7229b-3062-4714-96c3-4895c5ce5397",
   "metadata": {
    "tags": []
   },
   "outputs": [
    {
     "name": "stderr",
     "output_type": "stream",
     "text": [
      "Warning message in assert_points_input(origins, \"origins\"):\n",
      "\"'origins$id' forcefully cast to character.\"\n",
      "Warning message in assert_points_input(destinations, \"destinations\"):\n",
      "\"'destinations$id' forcefully cast to character.\"\n",
      "Origins dataframe expanded to match the number of destinations.\n",
      "\n"
     ]
    },
    {
     "name": "stdout",
     "output_type": "stream",
     "text": [
      "[1] \"Compute time: 0.303364634513855 min\"\n"
     ]
    },
    {
     "name": "stderr",
     "output_type": "stream",
     "text": [
      "Warning message in abbreviate_shapefile_names(obj):\n",
      "\"Field names abbreviated for ESRI Shapefile driver\"\n"
     ]
    },
    {
     "name": "stdout",
     "output_type": "stream",
     "text": [
      "Deleting layer `itineraries_SHUTTLE_TRANSIT_WALK_outbound_120' using driver `ESRI Shapefile'\n",
      "Writing layer `itineraries_SHUTTLE_TRANSIT_WALK_outbound_120' to data source \n",
      "  `./output_data/itineraries_SHUTTLE_TRANSIT_WALK_outbound_120.shp' using driver `ESRI Shapefile'\n",
      "Writing 977 features with 14 fields and geometry type Line String.\n"
     ]
    }
   ],
   "source": [
    "start_time = Sys.time()\n",
    "itineraries = detailed_itineraries(r5r_core = r5r_core,\n",
    "  origins = park_and_ride,\n",
    "  destinations = tract_points,\n",
    "  mode = c(\"TRANSIT\", \"WALK\"),\n",
    "  mode_egress = \"WALK\",\n",
    "  departure_datetime = departureTime,\n",
    "  max_trip_duration = 110\n",
    ")\n",
    "end_time = Sys.time()\n",
    "duration = difftime(end_time, start_time, units=\"min\")\n",
    "print(paste0(\"Compute time: \", duration, \" min\"))\n",
    "st_write(itineraries, \"./output_data/itineraries_SHUTTLE_TRANSIT_WALK_outbound_120.shp\", append=FALSE)"
   ]
  },
  {
   "cell_type": "code",
   "execution_count": 44,
   "id": "2425cce3-e1de-4e6a-928c-4011b37ec0a1",
   "metadata": {
    "tags": []
   },
   "outputs": [
    {
     "name": "stderr",
     "output_type": "stream",
     "text": [
      "Warning message in assert_points_input(origins, \"origins\"):\n",
      "\"'origins$id' forcefully cast to character.\"\n",
      "Warning message in assert_points_input(destinations, \"destinations\"):\n",
      "\"'destinations$id' forcefully cast to character.\"\n"
     ]
    },
    {
     "name": "stdout",
     "output_type": "stream",
     "text": [
      "[1] \"Compute time: 0.0122244993845622 min\"\n"
     ]
    },
    {
     "name": "stderr",
     "output_type": "stream",
     "text": [
      "Warning message in abbreviate_shapefile_names(obj):\n",
      "\"Field names abbreviated for ESRI Shapefile driver\"\n"
     ]
    },
    {
     "name": "stdout",
     "output_type": "stream",
     "text": [
      "Deleting layer `itineraries_ANY_toconference_150' using driver `ESRI Shapefile'\n",
      "Writing layer `itineraries_ANY_toconference_150' to data source \n",
      "  `./output_data/itineraries_ANY_toconference_150.shp' using driver `ESRI Shapefile'\n",
      "Writing 13 features with 14 fields and geometry type Line String.\n"
     ]
    }
   ],
   "source": [
    "start_time = Sys.time()\n",
    "itineraries = detailed_itineraries(r5r_core = r5r_core,\n",
    "  origins = site,\n",
    "  destinations = tract_points[325, ],\n",
    "  mode = c(\"TRANSIT\", \"WALK\", \"BICYCLE\", \"CAR\"),\n",
    "  mode_egress = \"WALK\",\n",
    "  departure_datetime = departureTime,\n",
    "  max_trip_duration = 150,\n",
    "  bike_speed = 24,\n",
    "  shortest_path = FALSE\n",
    ")\n",
    "end_time = Sys.time()\n",
    "duration = difftime(end_time, start_time, units=\"min\")\n",
    "print(paste0(\"Compute time: \", duration, \" min\"))\n",
    "st_write(itineraries, \"./output_data/itineraries_ANY_toconference_150.shp\", append=FALSE)"
   ]
  },
  {
   "cell_type": "markdown",
   "id": "21c48b51-9356-45bd-ba50-050df83b3776",
   "metadata": {
    "tags": []
   },
   "source": [
    "## Clean up memory"
   ]
  },
  {
   "cell_type": "code",
   "execution_count": null,
   "id": "06c4283d-33d7-4178-b7e4-398218f91819",
   "metadata": {},
   "outputs": [],
   "source": [
    "stop_r5(r5r_core)\n",
    "rJava::.jgc(R.gc = TRUE)"
   ]
  },
  {
   "cell_type": "markdown",
   "id": "e5129954-ab36-4b8d-a45d-17403dc2af69",
   "metadata": {},
   "source": [
    "# References"
   ]
  },
  {
   "cell_type": "markdown",
   "id": "19422145-fd44-4dad-b24f-5df1bc866991",
   "metadata": {},
   "source": [
    "  1. [r5r: Rapid Realistic Routing with R5 in R](https://ipeagit.github.io/r5r/) (Project website)\n",
    "  1. [Intro to r5r: Rapid Realistic Routing with R5 in R](https://ipeagit.github.io/r5r/articles/r5r.html) (Vignette with multi-modal routing example using sample data)\n",
    "  1. [r5r: Rapid Realistic Routing on Multimodal Transport Networks with R5 in R](https://findingspress.org/article/21262-r5r-rapid-realistic-routing-on-multimodal-transport-networks-with-r-5-in-r) (Published article with accessibility analysis example using sample data)\n",
    "  1. [Calculating and visualizing Accessibility](https://ipeagit.github.io/r5r/articles/calculating_accessibility.html) (Vignette with accessibility analysis example using sample data)\n",
    "  1. [osmextract project website](https://docs.ropensci.org/osmextract/)"
   ]
  },
  {
   "cell_type": "markdown",
   "id": "8d069b71-b2f1-4d7a-87bd-8e56b463fbdc",
   "metadata": {},
   "source": [
    "https://anderfernandez.com/en/blog/how-to-program-with-python-and-r-in-the-same-jupyter-notebook/\n",
    "\n",
    "https://medium.com/@Ben_Obe/introduction-to-presenting-with-juypter-with-reveal-js-8e34a07081b2\n",
    "\n",
    "https://www.earthdatascience.org/courses/earth-analytics/spatial-data-r/make-maps-with-ggplot-in-R/"
   ]
  },
  {
   "cell_type": "markdown",
   "id": "7fd70870-0545-4c05-9bd5-bb37b200bb2f",
   "metadata": {},
   "source": [
    "## Appendix: Download OpenStreetMap database"
   ]
  },
  {
   "cell_type": "code",
   "execution_count": 50,
   "id": "d9bc194f-f2b9-4f89-9bfa-787287e2ebba",
   "metadata": {},
   "outputs": [
    {
     "name": "stdout",
     "output_type": "stream",
     "text": [
      "  |======================================================================| 100%\n"
     ]
    },
    {
     "name": "stderr",
     "output_type": "stream",
     "text": [
      "File downloaded!\n",
      "\n"
     ]
    },
    {
     "data": {
      "text/html": [
       "'C:\\\\Users\\\\aporr\\\\Desktop\\\\Work\\\\2022 Ohio GIS Conference\\\\input_data\\\\geofabrik_ohio-latest.osm.pbf'"
      ],
      "text/latex": [
       "'C:\\textbackslash{}\\textbackslash{}Users\\textbackslash{}\\textbackslash{}aporr\\textbackslash{}\\textbackslash{}Desktop\\textbackslash{}\\textbackslash{}Work\\textbackslash{}\\textbackslash{}2022 Ohio GIS Conference\\textbackslash{}\\textbackslash{}input\\_data\\textbackslash{}\\textbackslash{}geofabrik\\_ohio-latest.osm.pbf'"
      ],
      "text/markdown": [
       "'C:\\\\Users\\\\aporr\\\\Desktop\\\\Work\\\\2022 Ohio GIS Conference\\\\input_data\\\\geofabrik_ohio-latest.osm.pbf'"
      ],
      "text/plain": [
       "[1] \"C:\\\\Users\\\\aporr\\\\Desktop\\\\Work\\\\2022 Ohio GIS Conference\\\\input_data\\\\geofabrik_ohio-latest.osm.pbf\""
      ]
     },
     "metadata": {},
     "output_type": "display_data"
    }
   ],
   "source": [
    "start_time = Sys.time()\n",
    "oe_download(\n",
    "  file_url = \"https://download.geofabrik.de/north-america/us/ohio-latest.osm.pbf\", \n",
    "  download_directory = \"./input_data\"\n",
    ")\n",
    "end_time = Sys.time()\n",
    "duration = difftime(end_time, start_time, units=\"min\")\n",
    "print(paste0(\"Compute time: \", duration, \" min\"))"
   ]
  },
  {
   "cell_type": "code",
   "execution_count": 52,
   "id": "d03a45ad-54d6-49c8-989f-6aae51bea0a4",
   "metadata": {},
   "outputs": [
    {
     "name": "stdout",
     "output_type": "stream",
     "text": [
      "Reading layer `region' from data source \n",
      "  `C:\\Users\\aporr\\Desktop\\Work\\2022 Ohio GIS Conference\\temp_data\\region.shp' \n",
      "  using driver `ESRI Shapefile'\n",
      "Simple feature collection with 1 feature and 12 fields\n",
      "Geometry type: POLYGON\n",
      "Dimension:     XY\n",
      "Bounding box:  xmin: -84.01476 ymin: 39.16777 xmax: -82.02422 ymax: 40.71253\n",
      "Geodetic CRS:  NAD83\n"
     ]
    }
   ],
   "source": [
    "region <- st_read(\"./temp_data/region.shp\")\n",
    "region <- st_transform(region, crs=\"epsg:4326\")"
   ]
  },
  {
   "cell_type": "code",
   "execution_count": 55,
   "id": "1cfb2a0a-e436-4b53-b941-95f34e7fcae4",
   "metadata": {},
   "outputs": [
    {
     "name": "stderr",
     "output_type": "stream",
     "text": [
      "Start with the vectortranslate operations on the input file!\n",
      "\n"
     ]
    },
    {
     "name": "stdout",
     "output_type": "stream",
     "text": [
      "0...10...20...30...40...50...60...70...80...90...100 - done.\n"
     ]
    },
    {
     "name": "stderr",
     "output_type": "stream",
     "text": [
      "Finished the vectortranslate operations on the input file!\n",
      "\n"
     ]
    },
    {
     "data": {
      "text/html": [
       "'./input_data/geofabrik_ohio-latest.gpkg'"
      ],
      "text/latex": [
       "'./input\\_data/geofabrik\\_ohio-latest.gpkg'"
      ],
      "text/markdown": [
       "'./input_data/geofabrik_ohio-latest.gpkg'"
      ],
      "text/plain": [
       "[1] \"./input_data/geofabrik_ohio-latest.gpkg\""
      ]
     },
     "metadata": {},
     "output_type": "display_data"
    },
    {
     "name": "stdout",
     "output_type": "stream",
     "text": [
      "[1] \"Compute time: 0.403892346223195 min\"\n"
     ]
    }
   ],
   "source": [
    "# Use this if you want to create a GeoPackage that includes the entire GeoFabrik dataset (see below for ano\n",
    "start_time = Sys.time()\n",
    "oe_vectortranslate(\"./input_data/geofabrik_ohio-latest.osm.pbf\", boundary=region)\n",
    "end_time = Sys.time()\n",
    "duration = difftime(end_time, start_time, units=\"min\")\n",
    "print(paste0(\"Compute time: \", duration, \" min\"))"
   ]
  },
  {
   "cell_type": "raw",
   "id": "6c5b3029-b8bc-4548-ad73-03afce67318c",
   "metadata": {
    "tags": []
   },
   "source": [
    "# For reference only.  Only needed if you want to interact with the OSM lines directly.  Will automatically create \n",
    "# a GeoPackage that includes the GeoFabrik data clipped to the region boundary\n",
    "start_time = Sys.time()\n",
    "osm_lines <- oe_read(\"./input_data/geofabrik_ohio-latest.osm.pbf\", layer=\"lines\", boundary=region)\n",
    "end_time = Sys.time()\n",
    "duration = difftime(end_time, start_time, units=\"min\")\n",
    "print(paste0(\"Compute time: \", duration, \" min\"))"
   ]
  }
 ],
 "metadata": {
  "kernelspec": {
   "display_name": "R",
   "language": "R",
   "name": "ir"
  },
  "language_info": {
   "codemirror_mode": "r",
   "file_extension": ".r",
   "mimetype": "text/x-r-source",
   "name": "R",
   "pygments_lexer": "r",
   "version": "4.1.1"
  }
 },
 "nbformat": 4,
 "nbformat_minor": 5
}
