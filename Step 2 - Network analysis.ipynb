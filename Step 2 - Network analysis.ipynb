{
 "cells": [
  {
   "cell_type": "markdown",
   "id": "f2899239-230b-4960-aba2-803ba5fb46db",
   "metadata": {},
   "source": [
    "# Step 2 - Network analysis (R)"
   ]
  },
  {
   "cell_type": "markdown",
   "id": "b10ae7db-4ea0-49ed-994b-37f8e247bc50",
   "metadata": {},
   "source": [
    "This R script will compute the travel time matrices between the first in the locations CSV and the remaining locations.  First run \"Step 1 - Prepare input data.ipynb\", then run this first to generate the matrices, then run \"Step 3 - Final analysis.ipynb\" to complete the analysis and generate the visualizations."
   ]
  },
  {
   "cell_type": "markdown",
   "id": "c1121a48-59ef-4e23-a6b7-7cca20fc020e",
   "metadata": {},
   "source": [
    "## Configure environment"
   ]
  },
  {
   "cell_type": "markdown",
   "id": "dc3d3d49-46a7-4b31-a6cf-eb51b5d938e8",
   "metadata": {},
   "source": [
    "Allocate memory to Java.  Currently set to allocate 8GB (hence the \"8G\" part of the string)"
   ]
  },
  {
   "cell_type": "code",
   "execution_count": 24,
   "id": "eb2a0555-1da9-489f-847c-e48c49c2cb4a",
   "metadata": {},
   "outputs": [
    {
     "data": {
      "text/html": [
       "0"
      ],
      "text/latex": [
       "0"
      ],
      "text/markdown": [
       "0"
      ],
      "text/plain": [
       "[1] 0"
      ]
     },
     "metadata": {},
     "output_type": "display_data"
    },
    {
     "data": {
      "text/html": [
       "'11'"
      ],
      "text/latex": [
       "'11'"
      ],
      "text/markdown": [
       "'11'"
      ],
      "text/plain": [
       "[1] \"11\""
      ]
     },
     "metadata": {},
     "output_type": "display_data"
    }
   ],
   "source": [
    "# Allocate RAM memory to Java\n",
    "options(java.parameters = \"-Xmx8G\")\n",
    "rJava::.jinit()\n",
    "rJava::.jcall(\"java.lang.System\", \"S\", \"getProperty\", \"java.version\")"
   ]
  },
  {
   "cell_type": "markdown",
   "id": "c2b12496-c215-4b96-9a95-2285887cc179",
   "metadata": {},
   "source": [
    "Install required R packages.  It is only necessary to run this one time.  Comment these out for subsequent runs to save time."
   ]
  },
  {
   "cell_type": "code",
   "execution_count": 25,
   "id": "85bb9047-5f11-44f8-8177-1233bde63635",
   "metadata": {},
   "outputs": [
    {
     "name": "stderr",
     "output_type": "stream",
     "text": [
      "Warning message:\n",
      "\"package 'r5r' is in use and will not be installed\"\n",
      "Warning message:\n",
      "\"package 'sf' is in use and will not be installed\"\n"
     ]
    }
   ],
   "source": [
    "install.packages(\"r5r\")\n",
    "install.packages(\"sf\")"
   ]
  },
  {
   "cell_type": "markdown",
   "id": "e5c39785-1e86-43a3-992f-a186b1fbc346",
   "metadata": {},
   "source": [
    "Load required packages into memory. This has to happen every time the script is run."
   ]
  },
  {
   "cell_type": "code",
   "execution_count": 26,
   "id": "123fe277-22b3-4577-be05-a11497339470",
   "metadata": {},
   "outputs": [],
   "source": [
    "library(r5r)\n",
    "library(sf)"
   ]
  },
  {
   "cell_type": "markdown",
   "id": "58b34f3d-fcaa-4114-99de-0c41ec22cd9c",
   "metadata": {},
   "source": [
    "## Define analysis parameters"
   ]
  },
  {
   "cell_type": "code",
   "execution_count": 27,
   "id": "12a66c0f-76a6-4987-b353-9e06cfbd14a0",
   "metadata": {},
   "outputs": [],
   "source": [
    "# Default departure time for trips (you can override this below)\n",
    "departureTime = as.POSIXct(\"2022-09-12 17:00:00\",\n",
    "                                 format = \"%Y-%m-%d %H:%M:%S\")"
   ]
  },
  {
   "cell_type": "markdown",
   "id": "efaabc5e-fca3-4c17-adba-995785057ac5",
   "metadata": {},
   "source": [
    "## Load contextual data"
   ]
  },
  {
   "cell_type": "code",
   "execution_count": 28,
   "id": "d03a45ad-54d6-49c8-989f-6aae51bea0a4",
   "metadata": {},
   "outputs": [
    {
     "name": "stdout",
     "output_type": "stream",
     "text": [
      "Reading layer `region' from data source \n",
      "  `C:\\Users\\aporr\\Desktop\\Work\\2022 Ohio GIS Conference\\temp_data\\region.shp' \n",
      "  using driver `ESRI Shapefile'\n",
      "Simple feature collection with 1 feature and 12 fields\n",
      "Geometry type: POLYGON\n",
      "Dimension:     XY\n",
      "Bounding box:  xmin: -84.01476 ymin: 39.16777 xmax: -82.02422 ymax: 40.71253\n",
      "Geodetic CRS:  WGS 84\n"
     ]
    }
   ],
   "source": [
    "region <- st_read(\"./temp_data/region.shp\")\n",
    "region <- st_transform(region, crs=\"epsg:4326\")"
   ]
  },
  {
   "cell_type": "markdown",
   "id": "d877befe-cbca-4093-9e5b-842bc25224e3",
   "metadata": {},
   "source": [
    "## Prepare transportation network"
   ]
  },
  {
   "cell_type": "code",
   "execution_count": 29,
   "id": "56202997-097e-41c1-b68c-d6c315e90efb",
   "metadata": {
    "scrolled": true,
    "tags": []
   },
   "outputs": [
    {
     "name": "stderr",
     "output_type": "stream",
     "text": [
      "\n",
      "Using cached network.dat from ./input_data/network.dat\n",
      "\n"
     ]
    },
    {
     "name": "stdout",
     "output_type": "stream",
     "text": [
      "[1] \"Compute time: 0.120659784475962 min\"\n"
     ]
    }
   ],
   "source": [
    "start_time = Sys.time()\n",
    "r5r_core <- setup_r5(data_path = \"./input_data\", verbose=TRUE)\n",
    "end_time = Sys.time()\n",
    "duration = difftime(end_time, start_time, units=\"min\")\n",
    "print(paste0(\"Compute time: \", duration, \" min\"))"
   ]
  },
  {
   "cell_type": "markdown",
   "id": "d075f707-16fb-4c68-95ad-903977bb1fb9",
   "metadata": {},
   "source": [
    "## Prepare network endpoints"
   ]
  },
  {
   "cell_type": "code",
   "execution_count": 30,
   "id": "2f8710ff-2e94-4b7f-bda8-359554e100cc",
   "metadata": {},
   "outputs": [
    {
     "ename": "ERROR",
     "evalue": "Error in eval(expr, envir, enclos): \n",
     "output_type": "error",
     "traceback": [
      "Error in eval(expr, envir, enclos): \nTraceback:\n",
      "1. stop()"
     ]
    }
   ],
   "source": [
    "stop()"
   ]
  },
  {
   "cell_type": "markdown",
   "id": "fc7e9c5b-9bac-43eb-bb5a-566d91920049",
   "metadata": {},
   "source": [
    "The stop above was intentional. At this point, please run the included ArcPy script \"r5prep.py\", which will create \"points.shp\" and \"tract_points.shp\" (see below) by snapping the raw versions of the points (i.e. \"points_raw.shp\" and \"tract_points_raw.shp\" in the same directory) to the OSM network.  Alternatively, you could do this using a different tool such as QGIS or shapely.  You might even be able to simply copy (or rename) the raw files and use them as-is, although this might affect travel times and routing."
   ]
  },
  {
   "cell_type": "markdown",
   "id": "f4acc0ea-2b8a-4679-ad75-8a225a767a85",
   "metadata": {},
   "source": [
    "Load the location of the Intel plant."
   ]
  },
  {
   "cell_type": "code",
   "execution_count": 31,
   "id": "72650cfb",
   "metadata": {
    "tags": []
   },
   "outputs": [
    {
     "name": "stdout",
     "output_type": "stream",
     "text": [
      "Reading layer `site' from data source \n",
      "  `C:\\Users\\aporr\\Desktop\\Work\\2022 Ohio GIS Conference\\input_data\\site\\site.shp' \n",
      "  using driver `ESRI Shapefile'\n",
      "Simple feature collection with 1 feature and 1 field\n",
      "Geometry type: POINT\n",
      "Dimension:     XY\n",
      "Bounding box:  xmin: -82.71037 ymin: 40.11924 xmax: -82.71037 ymax: 40.11924\n",
      "Geodetic CRS:  WGS 84\n"
     ]
    }
   ],
   "source": [
    "site <- st_read(\"./input_data/site/site.shp\")\n",
    "site <- st_transform(site, crs=\"epsg:4326\")"
   ]
  },
  {
   "cell_type": "markdown",
   "id": "05d1f994-2200-4d6d-990b-4fcbfd45f97b",
   "metadata": {},
   "source": [
    "Load the location of the New Albany COTA park and ride."
   ]
  },
  {
   "cell_type": "code",
   "execution_count": 32,
   "id": "cfea106c-55d9-473a-b999-add648333de0",
   "metadata": {
    "tags": []
   },
   "outputs": [
    {
     "name": "stdout",
     "output_type": "stream",
     "text": [
      "Reading layer `park_and_ride' from data source \n",
      "  `C:\\Users\\aporr\\Desktop\\Work\\2022 Ohio GIS Conference\\temp_data\\park_and_ride.shp' \n",
      "  using driver `ESRI Shapefile'\n",
      "Simple feature collection with 1 feature and 1 field\n",
      "Geometry type: POINT\n",
      "Dimension:     XY\n",
      "Bounding box:  xmin: -82.78828 ymin: 40.0907 xmax: -82.78828 ymax: 40.0907\n",
      "Geodetic CRS:  WGS 84\n"
     ]
    }
   ],
   "source": [
    "park_and_ride <- st_read(\"./temp_data/park_and_ride.shp\")\n",
    "park_and_ride <- st_transform(park_and_ride, crs=\"epsg:4326\")"
   ]
  },
  {
   "cell_type": "markdown",
   "id": "4428534b-39f6-43f8-9cbd-d798bcb21a54",
   "metadata": {},
   "source": [
    "Load the high-resolution grid of points that will be used to construct isochrones. if you ran r5prep.py, these should be snapped to the street centerlines."
   ]
  },
  {
   "cell_type": "code",
   "execution_count": 33,
   "id": "57a1f7d1-79d3-4199-8127-1da4699977e1",
   "metadata": {
    "tags": []
   },
   "outputs": [
    {
     "name": "stdout",
     "output_type": "stream",
     "text": [
      "Reading layer `points' from data source \n",
      "  `C:\\Users\\aporr\\Desktop\\Work\\2022 Ohio GIS Conference\\temp_data\\points.shp' \n",
      "  using driver `ESRI Shapefile'\n",
      "Simple feature collection with 7800 features and 1 field\n",
      "Geometry type: POINT\n",
      "Dimension:     XY\n",
      "Bounding box:  xmin: -84.01784 ymin: 39.16179 xmax: -82.03087 ymax: 40.71409\n",
      "Geodetic CRS:  WGS 84\n"
     ]
    }
   ],
   "source": [
    "points <- st_read(\"./temp_data/points.shp\")\n",
    "points <- st_transform(points, crs=\"epsg:4326\")"
   ]
  },
  {
   "cell_type": "markdown",
   "id": "45bbebb4-9043-49d5-8817-c3029566e03a",
   "metadata": {},
   "source": [
    "Load the census tract centroids, which are meant to represent destination neighborhoods. If you ran r5prep.py, these should be snapped to street centerlines."
   ]
  },
  {
   "cell_type": "code",
   "execution_count": 34,
   "id": "47d63791-cd4e-4359-b936-b6567b009149",
   "metadata": {},
   "outputs": [
    {
     "name": "stdout",
     "output_type": "stream",
     "text": [
      "Reading layer `tract_points' from data source \n",
      "  `C:\\Users\\aporr\\Desktop\\Work\\2022 Ohio GIS Conference\\temp_data\\tract_points.shp' \n",
      "  using driver `ESRI Shapefile'\n",
      "Simple feature collection with 849 features and 1 field\n",
      "Geometry type: POINT\n",
      "Dimension:     XY\n",
      "Bounding box:  xmin: -84.15688 ymin: 39.00131 xmax: -81.97585 ymax: 40.82609\n",
      "Geodetic CRS:  WGS 84\n"
     ]
    }
   ],
   "source": [
    "tract_points <- st_read(\"./temp_data/tract_points.shp\")\n",
    "tract_points <- st_transform(tract_points, crs=\"epsg:4326\")"
   ]
  },
  {
   "cell_type": "markdown",
   "id": "f6d1319b-b528-4fcf-88d9-a15c34d2a454",
   "metadata": {},
   "source": [
    "Load the approximate location of the Ohio GIS conference."
   ]
  },
  {
   "cell_type": "code",
   "execution_count": 37,
   "id": "bb857738-15a0-4069-986b-e70a078c3044",
   "metadata": {},
   "outputs": [
    {
     "name": "stdout",
     "output_type": "stream",
     "text": [
      "Reading layer `conference_location' from data source \n",
      "  `C:\\Users\\aporr\\Desktop\\Work\\2022 Ohio GIS Conference\\temp_data\\conference_location.shp' \n",
      "  using driver `ESRI Shapefile'\n",
      "Simple feature collection with 1 feature and 2 fields\n",
      "Geometry type: POINT\n",
      "Dimension:     XY\n",
      "Bounding box:  xmin: -83.02748 ymin: 40.02204 xmax: -83.02748 ymax: 40.02204\n",
      "Geodetic CRS:  WGS 84\n"
     ]
    }
   ],
   "source": [
    "conference_location <- st_read(\"./temp_data/conference_location.shp\")\n",
    "conference_location <- st_transform(conference_location, crs=\"epsg:4326\")"
   ]
  },
  {
   "cell_type": "markdown",
   "id": "2941b6f3-0778-4241-a4f1-44c17c246b87",
   "metadata": {},
   "source": [
    "## Compute travel time matrices from Ohio GIS conference to neighborhoods"
   ]
  },
  {
   "cell_type": "markdown",
   "id": "de37f586-94ef-4f39-9998-a5c6784cb20d",
   "metadata": {},
   "source": [
    "Use snapped census tract centroids as a proxy for neighborhood centroids."
   ]
  },
  {
   "cell_type": "markdown",
   "id": "73d7d436-dc90-4b71-82ee-c40f9b8d6355",
   "metadata": {},
   "source": [
    "### By transit"
   ]
  },
  {
   "cell_type": "code",
   "execution_count": 38,
   "id": "7b94f2b2-fb80-4084-8d2f-b0dafebc2d1a",
   "metadata": {},
   "outputs": [
    {
     "name": "stdout",
     "output_type": "stream",
     "text": [
      "[1] \"Compute time: 0.00174413124720256 min\"\n"
     ]
    }
   ],
   "source": [
    "start_time = Sys.time()\n",
    "ttm <- travel_time_matrix(r5r_core = r5r_core,\n",
    "                          origins = conference_location,\n",
    "                          destinations = tract_points,\n",
    "                          mode = c(\"TRANSIT\"),\n",
    "                          departure_datetime = departureTime,\n",
    "                          max_trip_duration = 90)\n",
    "end_time = Sys.time()\n",
    "duration = difftime(end_time, start_time, units=\"min\")\n",
    "print(paste0(\"Compute time: \", duration, \" min\"))\n",
    "write.csv(ttm, \"output_data/ttm_TRANSIT_outbound_neighborhoods.csv\", row.names=FALSE)"
   ]
  },
  {
   "cell_type": "markdown",
   "id": "3b67535f-f930-4557-8e3d-7b4fd82b5190",
   "metadata": {
    "tags": []
   },
   "source": [
    "### By bike"
   ]
  },
  {
   "cell_type": "code",
   "execution_count": 39,
   "id": "fdf29e9d-e18f-4f86-9263-00c68b7dd75c",
   "metadata": {},
   "outputs": [
    {
     "name": "stdout",
     "output_type": "stream",
     "text": [
      "[1] \"Compute time: 0.00642908414204915 min\"\n"
     ]
    }
   ],
   "source": [
    "start_time = Sys.time()\n",
    "ttm <- travel_time_matrix(r5r_core = r5r_core,\n",
    "                          origins = conference_location,\n",
    "                          destinations = tract_points,\n",
    "                          mode = c(\"BICYCLE\"),\n",
    "                          departure_datetime = departureTime,\n",
    "                          max_trip_duration = 90)\n",
    "end_time = Sys.time()\n",
    "duration = difftime(end_time, start_time, units=\"min\")\n",
    "print(paste0(\"Compute time: \", duration, \" min\"))\n",
    "write.csv(ttm, \"output_data/ttm_BIKE_outbound_neighborhoods.csv\", row.names=FALSE)"
   ]
  },
  {
   "cell_type": "markdown",
   "id": "4ce560c2-fc4e-4053-9d57-511ff2bbbacf",
   "metadata": {},
   "source": [
    "## Compute travel time matrices from Intel to regional grid points"
   ]
  },
  {
   "cell_type": "markdown",
   "id": "27e054bb-6fd3-4326-bde8-96ab8f6f7510",
   "metadata": {},
   "source": [
    "Compute travel times to all points in dense grid covering the region."
   ]
  },
  {
   "cell_type": "markdown",
   "id": "43673bfc-fe57-4b6f-98e1-c232735c2970",
   "metadata": {},
   "source": [
    "### Evening weekday commute from Intel, car only, outbound, to whole region"
   ]
  },
  {
   "cell_type": "code",
   "execution_count": 16,
   "id": "616cd589-f560-4133-ae9e-59ccb1fc9bbf",
   "metadata": {},
   "outputs": [
    {
     "name": "stderr",
     "output_type": "stream",
     "text": [
      "Warning message in assert_points_input(origins, \"origins\"):\n",
      "\"'origins$id' forcefully cast to character.\"\n",
      "Warning message in assert_points_input(destinations, \"destinations\"):\n",
      "\"'destinations$id' forcefully cast to character.\"\n"
     ]
    },
    {
     "name": "stdout",
     "output_type": "stream",
     "text": [
      "[1] \"Compute time: 0.0907134334246318 min\"\n"
     ]
    }
   ],
   "source": [
    "start_time = Sys.time()\n",
    "ttm <- travel_time_matrix(r5r_core = r5r_core,\n",
    "                          origins = site,\n",
    "                          destinations = points,\n",
    "                          mode = c(\"CAR\"),\n",
    "                          departure_datetime = departureTime,\n",
    "                          max_trip_duration = 90)\n",
    "end_time = Sys.time()\n",
    "duration = difftime(end_time, start_time, units=\"min\")\n",
    "print(paste0(\"Compute time: \", duration, \" min\"))\n",
    "write.csv(ttm, \"output_data/ttm_CAR_outbound_90.csv\", row.names=FALSE)"
   ]
  },
  {
   "cell_type": "markdown",
   "id": "477381b8-4f22-44c1-8ce5-107c3fa90fac",
   "metadata": {},
   "source": [
    "### Evening weekday commute from Intel, walk+transit, outbound, to whole region"
   ]
  },
  {
   "cell_type": "code",
   "execution_count": 17,
   "id": "976dd4f6-9f6e-4ef6-b0bc-7e707d8f8486",
   "metadata": {},
   "outputs": [
    {
     "name": "stderr",
     "output_type": "stream",
     "text": [
      "Warning message in assert_points_input(origins, \"origins\"):\n",
      "\"'origins$id' forcefully cast to character.\"\n",
      "Warning message in assert_points_input(destinations, \"destinations\"):\n",
      "\"'destinations$id' forcefully cast to character.\"\n"
     ]
    },
    {
     "name": "stdout",
     "output_type": "stream",
     "text": [
      "[1] \"Compute time: 0.0020597497622172 min\"\n"
     ]
    }
   ],
   "source": [
    "start_time = Sys.time()\n",
    "ttm <- travel_time_matrix(r5r_core = r5r_core,\n",
    "                          origins = site,\n",
    "                          destinations = points,\n",
    "                          mode = c(\"WALK\", \"TRANSIT\"),\n",
    "                          mode_egress = c(\"WALK\"),\n",
    "                          departure_datetime = departureTime,\n",
    "                          max_trip_duration = 90)\n",
    "end_time = Sys.time()\n",
    "duration = difftime(end_time, start_time, units=\"min\")\n",
    "print(paste0(\"Compute time: \", duration, \" min\"))\n",
    "write.csv(ttm, \"output_data/ttm_WALK-TRANSIT-WALK_outbound_90.csv\", row.names=FALSE)"
   ]
  },
  {
   "cell_type": "markdown",
   "id": "8d4703ec-22e5-453c-9610-3b275440882e",
   "metadata": {
    "tags": []
   },
   "source": [
    "### Evening weekday commute from Intel, bike+transit, outbound, to whole region"
   ]
  },
  {
   "cell_type": "code",
   "execution_count": 18,
   "id": "881b1108-7b29-4d50-bd3f-ca009f34d8e2",
   "metadata": {},
   "outputs": [
    {
     "name": "stderr",
     "output_type": "stream",
     "text": [
      "Warning message in assert_points_input(origins, \"origins\"):\n",
      "\"'origins$id' forcefully cast to character.\"\n",
      "Warning message in assert_points_input(destinations, \"destinations\"):\n",
      "\"'destinations$id' forcefully cast to character.\"\n"
     ]
    },
    {
     "name": "stdout",
     "output_type": "stream",
     "text": [
      "[1] \"Compute time: 0.00303986469904582 min\"\n"
     ]
    }
   ],
   "source": [
    "start_time = Sys.time()\n",
    "ttm <- travel_time_matrix(r5r_core = r5r_core,\n",
    "                          origins = site,\n",
    "                          destinations = points,\n",
    "                          mode = c(\"BICYCLE\",\"TRANSIT\"),\n",
    "                          mode_egress = c(\"BICYCLE\"),\n",
    "                          departure_datetime = departureTime,\n",
    "                          max_trip_duration = 90)\n",
    "end_time = Sys.time()\n",
    "duration = difftime(end_time, start_time, units=\"min\")\n",
    "print(paste0(\"Compute time: \", duration, \" min\"))\n",
    "write.csv(ttm, \"output_data/ttm_BIKE-TRANSIT-BIKE_outbound_90.csv\", row.names=FALSE)"
   ]
  },
  {
   "cell_type": "markdown",
   "id": "212e3423-4156-41ce-97a6-efbe9585c52f",
   "metadata": {
    "tags": []
   },
   "source": [
    "### Evening weekday commute from Intel, shuttle+transit, outbound, to whole region"
   ]
  },
  {
   "cell_type": "markdown",
   "id": "f286e364-002f-47db-adb3-357cc2e5501f",
   "metadata": {},
   "source": [
    "Actual origin point is the New Albany Park and Ride.  Ten minutes subtracted from max trip duration to account for implied shuttle from the plant to the park and ride. In theory R5 should be able to detect this route option on its own, but I could not get it to work. It's possible that deeper configuration of the R5 router is required."
   ]
  },
  {
   "cell_type": "code",
   "execution_count": 19,
   "id": "572b41ff-be14-4a11-a187-258f0cbfa736",
   "metadata": {},
   "outputs": [
    {
     "name": "stderr",
     "output_type": "stream",
     "text": [
      "Warning message in assert_points_input(origins, \"origins\"):\n",
      "\"'origins$id' forcefully cast to character.\"\n",
      "Warning message in assert_points_input(destinations, \"destinations\"):\n",
      "\"'destinations$id' forcefully cast to character.\"\n"
     ]
    },
    {
     "name": "stdout",
     "output_type": "stream",
     "text": [
      "[1] \"Compute time: 0.00398684740066528 min\"\n"
     ]
    }
   ],
   "source": [
    "start_time = Sys.time()\n",
    "ttm <- travel_time_matrix(r5r_core = r5r_core,\n",
    "                          origins = park_and_ride,\n",
    "                          destinations = points,\n",
    "                          mode = c(\"WALK\",\"TRANSIT\"),\n",
    "                          mode_egress = c(\"WALK\"),\n",
    "                          departure_datetime = departureTime,\n",
    "                          max_trip_duration = 80)\n",
    "end_time = Sys.time()\n",
    "duration = difftime(end_time, start_time, units=\"min\")\n",
    "print(paste0(\"Compute time: \", duration, \" min\"))\n",
    "write.csv(ttm, \"output_data/ttm_SHUTTLE-TRANSIT-WALK_outbound_90.csv\", row.names=FALSE)"
   ]
  },
  {
   "cell_type": "markdown",
   "id": "7a937781-2916-44e3-9d87-825d1f35a8d4",
   "metadata": {},
   "source": [
    "## Compute detailed itineraries from Intel to Mariott Columbus OSU"
   ]
  },
  {
   "cell_type": "code",
   "execution_count": null,
   "id": "95f49da1-89dc-4a41-a1fe-2750e9a47499",
   "metadata": {},
   "outputs": [
    {
     "data": {
      "application/geo+json": {
       "features": [
        {
         "geometry": {
          "coordinates": [
           -83.0275,
           40.022
          ],
          "type": "Point"
         },
         "properties": {
          "id": "39049007820"
         },
         "type": "Feature"
        }
       ],
       "type": "FeatureCollection"
      },
      "text/html": [
       "<table class=\"dataframe\">\n",
       "<caption>A sf: 1 × 2</caption>\n",
       "<thead>\n",
       "\t<tr><th></th><th scope=col>id</th><th scope=col>geometry</th></tr>\n",
       "\t<tr><th></th><th scope=col>&lt;chr&gt;</th><th scope=col>&lt;POINT [°]&gt;</th></tr>\n",
       "</thead>\n",
       "<tbody>\n",
       "\t<tr><th scope=row>1</th><td>39049007820</td><td>POINT (-83.02748 40.02204)</td></tr>\n",
       "</tbody>\n",
       "</table>\n"
      ],
      "text/latex": [
       "A sf: 1 × 2\n",
       "\\begin{tabular}{r|ll}\n",
       "  & id & geometry\\\\\n",
       "  & <chr> & <POINT {[}°{]}>\\\\\n",
       "\\hline\n",
       "\t1 & 39049007820 & POINT (-83.02748 40.02204)\\\\\n",
       "\\end{tabular}\n"
      ],
      "text/markdown": [
       "\n",
       "A sf: 1 × 2\n",
       "\n",
       "| <!--/--> | id &lt;chr&gt; | geometry &lt;POINT [°]&gt; |\n",
       "|---|---|---|\n",
       "| 1 | 39049007820 | POINT (-83.02748 40.02204) |\n",
       "\n"
      ],
      "text/plain": [
       "  id          geometry                  \n",
       "1 39049007820 POINT (-83.02748 40.02204)"
      ]
     },
     "metadata": {},
     "output_type": "display_data"
    }
   ],
   "source": [
    "conference_location[1]"
   ]
  },
  {
   "cell_type": "code",
   "execution_count": 43,
   "id": "2425cce3-e1de-4e6a-928c-4011b37ec0a1",
   "metadata": {
    "tags": []
   },
   "outputs": [
    {
     "name": "stderr",
     "output_type": "stream",
     "text": [
      "Warning message in assert_points_input(origins, \"origins\"):\n",
      "\"'origins$id' forcefully cast to character.\"\n"
     ]
    },
    {
     "name": "stdout",
     "output_type": "stream",
     "text": [
      "[1] \"Compute time: 0.00925701856613159 min\"\n"
     ]
    },
    {
     "name": "stderr",
     "output_type": "stream",
     "text": [
      "Warning message in abbreviate_shapefile_names(obj):\n",
      "\"Field names abbreviated for ESRI Shapefile driver\"\n"
     ]
    },
    {
     "name": "stdout",
     "output_type": "stream",
     "text": [
      "Deleting layer `itineraries_ANY_toconference_150' using driver `ESRI Shapefile'\n",
      "Writing layer `itineraries_ANY_toconference_150' to data source \n",
      "  `./output_data/itineraries_ANY_toconference_150.shp' using driver `ESRI Shapefile'\n",
      "Writing 13 features with 14 fields and geometry type Line String.\n"
     ]
    }
   ],
   "source": [
    "start_time = Sys.time()\n",
    "itineraries = detailed_itineraries(r5r_core = r5r_core,\n",
    "  origins = site,\n",
    "  destinations = conference_location[1],      # Tract 39049007820 centroid, near Mariott\n",
    "  mode = c(\"TRANSIT\", \"WALK\", \"BICYCLE\", \"CAR\"),\n",
    "  mode_egress = c(\"WALK\", \"BICYCLE\"),\n",
    "  departure_datetime = departureTime,\n",
    "  max_trip_duration = 150,\n",
    "  shortest_path = FALSE\n",
    ")\n",
    "end_time = Sys.time()\n",
    "duration = difftime(end_time, start_time, units=\"min\")\n",
    "print(paste0(\"Compute time: \", duration, \" min\"))\n",
    "st_write(itineraries, \"./output_data/itineraries_ANY_toconference_150.shp\", append=FALSE)"
   ]
  },
  {
   "cell_type": "markdown",
   "id": "21c48b51-9356-45bd-ba50-050df83b3776",
   "metadata": {
    "tags": []
   },
   "source": [
    "## Clean up memory"
   ]
  },
  {
   "cell_type": "code",
   "execution_count": 21,
   "id": "06c4283d-33d7-4178-b7e4-398218f91819",
   "metadata": {},
   "outputs": [
    {
     "name": "stderr",
     "output_type": "stream",
     "text": [
      "r5r_core has been successfully stopped.\n",
      "\n"
     ]
    }
   ],
   "source": [
    "stop_r5(r5r_core)\n",
    "rJava::.jgc(R.gc = TRUE)"
   ]
  },
  {
   "cell_type": "markdown",
   "id": "e5129954-ab36-4b8d-a45d-17403dc2af69",
   "metadata": {},
   "source": [
    "# References"
   ]
  },
  {
   "cell_type": "markdown",
   "id": "19422145-fd44-4dad-b24f-5df1bc866991",
   "metadata": {},
   "source": [
    "  1. [r5r: Rapid Realistic Routing with R5 in R](https://ipeagit.github.io/r5r/) (Project website)\n",
    "  1. [Intro to r5r: Rapid Realistic Routing with R5 in R](https://ipeagit.github.io/r5r/articles/r5r.html) (Vignette with multi-modal routing example using sample data)\n",
    "  1. [r5r: Rapid Realistic Routing on Multimodal Transport Networks with R5 in R](https://findingspress.org/article/21262-r5r-rapid-realistic-routing-on-multimodal-transport-networks-with-r-5-in-r) (Published article with accessibility analysis example using sample data)\n",
    "  1. [Calculating and visualizing Accessibility](https://ipeagit.github.io/r5r/articles/calculating_accessibility.html) (Vignette with accessibility analysis example using sample data)"
   ]
  }
 ],
 "metadata": {
  "kernelspec": {
   "display_name": "R",
   "language": "R",
   "name": "ir"
  },
  "language_info": {
   "codemirror_mode": "r",
   "file_extension": ".r",
   "mimetype": "text/x-r-source",
   "name": "R",
   "pygments_lexer": "r",
   "version": "4.1.1"
  }
 },
 "nbformat": 4,
 "nbformat_minor": 5
}
